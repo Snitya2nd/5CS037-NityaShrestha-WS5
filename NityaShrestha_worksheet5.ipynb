{
  "nbformat": 4,
  "nbformat_minor": 0,
  "metadata": {
    "colab": {
      "provenance": []
    },
    "kernelspec": {
      "name": "python3",
      "display_name": "Python 3"
    },
    "language_info": {
      "name": "python"
    }
  },
  "cells": [
    {
      "cell_type": "code",
      "execution_count": null,
      "metadata": {
        "colab": {
          "base_uri": "https://localhost:8080/"
        },
        "id": "xMImiaUf2K4Y",
        "outputId": "1bd9351b-c1c4-4edb-a01e-438d69f2a872"
      },
      "outputs": [
        {
          "output_type": "stream",
          "name": "stdout",
          "text": [
            "Mounted at /content/drive\n"
          ]
        }
      ],
      "source": [
        "from google.colab import drive\n",
        "drive.mount('/content/drive')"
      ]
    },
    {
      "cell_type": "markdown",
      "source": [
        "3.1.1 task1"
      ],
      "metadata": {
        "id": "mI_rL_CsVT3h"
      }
    },
    {
      "cell_type": "code",
      "source": [
        "import pandas as pd\n",
        "\n",
        "data = pd.read_csv('/content/drive/MyDrive/Datasets/student.csv')\n",
        "\n",
        "print(\"Top 5 rows of the dataset:\")\n",
        "print(data.head())\n",
        "\n",
        "print(\"\\nBottom 5 rows of the dataset:\")\n",
        "print(data.tail())\n",
        "\n",
        "print(\"\\nDataset Information:\")\n",
        "data.info()\n",
        "\n",
        "print(\"\\nDescriptive Statistics:\")\n",
        "print(data.describe())\n",
        "\n",
        "X = data[['Math', 'Reading']]  # Features\n",
        "Y = data['Writing']            # Label\n",
        "\n",
        "print(\"\\nFeatures (X):\")\n",
        "print(X.head())\n",
        "\n",
        "print(\"\\nLabel (Y):\")\n",
        "print(Y.head())\n"
      ],
      "metadata": {
        "colab": {
          "base_uri": "https://localhost:8080/"
        },
        "id": "oSHJX-K-WcRp",
        "outputId": "c3092eae-348e-4621-c5ed-89d5d47ea6cb"
      },
      "execution_count": null,
      "outputs": [
        {
          "output_type": "stream",
          "name": "stdout",
          "text": [
            "Top 5 rows of the dataset:\n",
            "   Math  Reading  Writing\n",
            "0    48       68       63\n",
            "1    62       81       72\n",
            "2    79       80       78\n",
            "3    76       83       79\n",
            "4    59       64       62\n",
            "\n",
            "Bottom 5 rows of the dataset:\n",
            "     Math  Reading  Writing\n",
            "995    72       74       70\n",
            "996    73       86       90\n",
            "997    89       87       94\n",
            "998    83       82       78\n",
            "999    66       66       72\n",
            "\n",
            "Dataset Information:\n",
            "<class 'pandas.core.frame.DataFrame'>\n",
            "RangeIndex: 1000 entries, 0 to 999\n",
            "Data columns (total 3 columns):\n",
            " #   Column   Non-Null Count  Dtype\n",
            "---  ------   --------------  -----\n",
            " 0   Math     1000 non-null   int64\n",
            " 1   Reading  1000 non-null   int64\n",
            " 2   Writing  1000 non-null   int64\n",
            "dtypes: int64(3)\n",
            "memory usage: 23.6 KB\n",
            "\n",
            "Descriptive Statistics:\n",
            "              Math      Reading      Writing\n",
            "count  1000.000000  1000.000000  1000.000000\n",
            "mean     67.290000    69.872000    68.616000\n",
            "std      15.085008    14.657027    15.241287\n",
            "min      13.000000    19.000000    14.000000\n",
            "25%      58.000000    60.750000    58.000000\n",
            "50%      68.000000    70.000000    69.500000\n",
            "75%      78.000000    81.000000    79.000000\n",
            "max     100.000000   100.000000   100.000000\n",
            "\n",
            "Features (X):\n",
            "   Math  Reading\n",
            "0    48       68\n",
            "1    62       81\n",
            "2    79       80\n",
            "3    76       83\n",
            "4    59       64\n",
            "\n",
            "Label (Y):\n",
            "0    63\n",
            "1    72\n",
            "2    78\n",
            "3    79\n",
            "4    62\n",
            "Name: Writing, dtype: int64\n"
          ]
        }
      ]
    },
    {
      "cell_type": "markdown",
      "source": [
        "3.1.1 task2"
      ],
      "metadata": {
        "id": "rcHbKBXBW0zB"
      }
    },
    {
      "cell_type": "code",
      "source": [
        "import numpy as np\n",
        "\n",
        "# Define the dimensions\n",
        "d = 3  # Number of features\n",
        "n = 5  # Number of data points\n",
        "\n",
        "# Step 1: Initialize feature matrix X (random values for illustration)\n",
        "X = np.random.rand(d, n)  # X is a d x n matrix\n",
        "\n",
        "# Step 2: Initialize weight vector W (random values for illustration)\n",
        "W = np.random.rand(d, 1)  # W is a d x 1 matrix\n",
        "\n",
        "# Step 3: Calculate the output Y = W^T X\n",
        "Y = np.dot(W.T, X)  # Y will be a 1 x n matrix\n",
        "\n",
        "# Step 4: Display the matrices\n",
        "print(\"Feature Matrix (X):\")\n",
        "print(X)\n",
        "\n",
        "print(\"\\nWeight Vector (W):\")\n",
        "print(W)\n",
        "\n",
        "print(\"\\nOutput (Y = W^T X):\")\n",
        "print(Y)\n"
      ],
      "metadata": {
        "colab": {
          "base_uri": "https://localhost:8080/"
        },
        "id": "dXm9d_0rW3fL",
        "outputId": "458a58a7-817f-4f1b-d04b-cdd95113fa1e"
      },
      "execution_count": null,
      "outputs": [
        {
          "output_type": "stream",
          "name": "stdout",
          "text": [
            "Feature Matrix (X):\n",
            "[[0.35118697 0.79532814 0.41645898 0.48526714 0.32097845]\n",
            " [0.37987407 0.29367421 0.79213139 0.01685208 0.04696211]\n",
            " [0.67088199 0.20029402 0.34757706 0.63700062 0.71063736]]\n",
            "\n",
            "Weight Vector (W):\n",
            "[[0.41482347]\n",
            " [0.00526458]\n",
            " [0.38844198]]\n",
            "\n",
            "Output (Y = W^T X):\n",
            "[[0.4082792  0.40926945 0.31194072 0.4488267  0.40943801]]\n"
          ]
        }
      ]
    },
    {
      "cell_type": "markdown",
      "source": [
        "3.1.1 task3"
      ],
      "metadata": {
        "id": "vjZhv_0zayfd"
      }
    },
    {
      "cell_type": "code",
      "source": [
        "from sklearn.model_selection import train_test_split\n",
        "import pandas as pd\n",
        "\n",
        "data = pd.read_csv('/content/drive/MyDrive/Datasets/student.csv')\n",
        "\n",
        "X = data[['Math', 'Reading']]  # Features\n",
        "Y = data['Writing']           # Label\n",
        "\n",
        "# Split the dataset into training and testing sets\n",
        "# Using 80-20 split\n",
        "X_train, X_test, Y_train, Y_test = train_test_split(X, Y, test_size=0.2, random_state=42)\n",
        "\n",
        "# Print the shapes of the splits\n",
        "print(\"Training Features (X_train):\")\n",
        "print(X_train.shape)\n",
        "\n",
        "print(\"\\nTest Features (X_test):\")\n",
        "print(X_test.shape)\n",
        "\n",
        "print(\"\\nTraining Labels (Y_train):\")\n",
        "print(Y_train.shape)\n",
        "\n",
        "print(\"\\nTest Labels (Y_test):\")\n",
        "print(Y_test.shape)\n"
      ],
      "metadata": {
        "colab": {
          "base_uri": "https://localhost:8080/"
        },
        "id": "mDFJVyaiaz2S",
        "outputId": "3aa2ea9e-38fd-4096-f68e-24f82ffed491"
      },
      "execution_count": null,
      "outputs": [
        {
          "output_type": "stream",
          "name": "stdout",
          "text": [
            "Training Features (X_train):\n",
            "(800, 2)\n",
            "\n",
            "Test Features (X_test):\n",
            "(200, 2)\n",
            "\n",
            "Training Labels (Y_train):\n",
            "(800,)\n",
            "\n",
            "Test Labels (Y_test):\n",
            "(200,)\n"
          ]
        }
      ]
    },
    {
      "cell_type": "markdown",
      "source": [
        "3.1.5"
      ],
      "metadata": {
        "id": "mK4RPU3VbQRc"
      }
    },
    {
      "cell_type": "code",
      "source": [
        "import numpy as np\n",
        "from sklearn.model_selection import train_test_split\n",
        "from sklearn.metrics import mean_squared_error, r2_score\n",
        "\n",
        "def load_and_split_data():\n",
        "    # Placeholder: Replace with actual data loading\n",
        "    data = np.random.rand(100, 5)  # Example data: 100 samples, 4 features + 1 target\n",
        "    X = data[:, :-1]  # Features\n",
        "    Y = data[:, -1]   # Target\n",
        "    return train_test_split(X, Y, test_size=0.2, random_state=42)\n",
        "\n",
        "def gradient_descent(X, Y, W, learning_rate, iterations):\n",
        "    m = len(Y)\n",
        "    for _ in range(iterations):\n",
        "        predictions = X.dot(W)\n",
        "        errors = predictions - Y\n",
        "        gradient = (1 / m) * X.T.dot(errors)\n",
        "        W -= learning_rate * gradient\n",
        "    return W\n",
        "\n",
        "def evaluate_model(X, Y, W):\n",
        "    predictions = X.dot(W)\n",
        "    rmse = np.sqrt(mean_squared_error(Y, predictions))\n",
        "    r2 = r2_score(Y, predictions)\n",
        "    return rmse, r2\n",
        "\n",
        "def main():\n",
        "    # Step 1: Load data and split into training and test sets\n",
        "    X_train, X_test, Y_train, Y_test = load_and_split_data()\n",
        "\n",
        "    # Step 2: Prepare feature matrix and target vector\n",
        "    X_train = np.c_[np.ones(X_train.shape[0]), X_train]  # Add bias term\n",
        "    X_test = np.c_[np.ones(X_test.shape[0]), X_test]     # Add bias term\n",
        "\n",
        "    # Step 3: Initialize weights, learning rate, and iterations\n",
        "    W = np.zeros(X_train.shape[1])\n",
        "    learning_rate = 0.01\n",
        "    iterations = 1000\n",
        "\n",
        "    # Step 4: Perform gradient descent\n",
        "    W = gradient_descent(X_train, Y_train, W, learning_rate, iterations)\n",
        "\n",
        "    # Step 5: Evaluate the model\n",
        "    rmse, r2 = evaluate_model(X_test, Y_test, W)\n",
        "    print(f\"RMSE: {rmse}\")\n",
        "    print(f\"R2 Score: {r2}\")\n",
        "\n",
        "if __name__ == \"__main__\":\n",
        "    main()\n"
      ],
      "metadata": {
        "colab": {
          "base_uri": "https://localhost:8080/"
        },
        "id": "rj5DezecbRX1",
        "outputId": "085a1094-40ab-45dd-dfe4-e18e7a558c78"
      },
      "execution_count": 1,
      "outputs": [
        {
          "output_type": "stream",
          "name": "stdout",
          "text": [
            "RMSE: 0.2866680065603583\n",
            "R2 Score: -0.20421370666088356\n"
          ]
        }
      ]
    }
  ]
}